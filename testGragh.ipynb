{
 "cells": [
  {
   "cell_type": "code",
   "execution_count": 3,
   "metadata": {},
   "outputs": [],
   "source": [
    "# 实现图算法\n",
    "# 使用两个类，Graph类存储包含所有带点的主列表，Vertex类存储每个顶点的信息\n",
    "\n",
    "# 实现Vertex类\n",
    "class Vertex():\n",
    "    def __init__(self, key):\n",
    "        # 顶点的id\n",
    "        self.id = key\n",
    "        # 顶点的连接,以字典的形式存储，key是顶点对象，value是权重\n",
    "        self.connectedTo = {}\n",
    "    \n",
    "    def addNeighbor(self, nbr, weight=0):\n",
    "        # 添加邻接顶点\n",
    "        self.connectedTo[nbr] = weight\n",
    "        \n",
    "    def __str__(self):\n",
    "        # 返回顶点的连接信息\n",
    "        return str(self.id) + ' connectedTo: ' + str([x.id for x in self.connectedTo])\n",
    "    \n",
    "    def getConnections(self):\n",
    "        # 返回所有连接的顶点\n",
    "        return self.connectedTo.keys()\n",
    "    \n",
    "    def getId(self):\n",
    "        # 返回顶点的id\n",
    "        return self.id\n",
    "    \n",
    "    def getWeight(self, nbr):\n",
    "        # 返回顶点的权重\n",
    "        return self.connectedTo[nbr]\n",
    "\n",
    "\n",
    "# 实现Graph类\n",
    "class Graph():\n",
    "    def __init__(self):\n",
    "        # 图的顶点列表\n",
    "        self.vertList = {}\n",
    "        # 顶点的个数\n",
    "        self.numVertices = 0\n",
    "    \n",
    "    def addVertex(self, key):\n",
    "        # 添加顶点\n",
    "        self.numVertices += 1\n",
    "        newVertex = Vertex(key)\n",
    "        self.vertList[key] = newVertex\n",
    "        return newVertex\n",
    "    \n",
    "    def getVertex(self, n):\n",
    "        # 返回顶点\n",
    "        if n in self.vertList:\n",
    "            return self.vertList[n]\n",
    "        else:\n",
    "            return None\n",
    "        \n",
    "    def __contains__(self, n):\n",
    "        # 判断顶点是否在图中\n",
    "        return n in self.vertList\n",
    "    \n",
    "    def addEdge(self, f, t, cost=0):\n",
    "        # 添加边\n",
    "        # f是起点，t是终点，cost是权重\n",
    "        if f not in self.vertList:\n",
    "            nv = self.addVertex(f)\n",
    "        if t not in self.vertList:\n",
    "            nv = self.addVertex(t)\n",
    "        self.vertList[f].addNeighbor(self.vertList[t], cost)\n",
    "        \n",
    "    def getVertices(self):\n",
    "        # 返回所有顶点\n",
    "        return self.vertList.keys()\n",
    "    \n",
    "    def __iter__(self):\n",
    "        # 迭代器\n",
    "        # 返回所有顶点\n",
    "        # 形式为每一个顶点相连的所以顶点\n",
    "        return iter(self.vertList.values())"
   ]
  },
  {
   "cell_type": "code",
   "execution_count": 4,
   "metadata": {},
   "outputs": [
    {
     "name": "stdout",
     "output_type": "stream",
     "text": [
      "{0: <__main__.Vertex object at 0x0000019E2E8A9160>, 1: <__main__.Vertex object at 0x0000019E2E8A9040>, 2: <__main__.Vertex object at 0x0000019E2E8A9430>, 3: <__main__.Vertex object at 0x0000019E2E8A9370>, 4: <__main__.Vertex object at 0x0000019E2E8A9340>, 5: <__main__.Vertex object at 0x0000019E2E8A9460>}\n"
     ]
    }
   ],
   "source": [
    "# 测试图算法\n",
    "g = Graph()\n",
    "for i in range(6):\n",
    "    g.addVertex(i)\n",
    "print(g.vertList)"
   ]
  },
  {
   "cell_type": "code",
   "execution_count": null,
   "metadata": {},
   "outputs": [],
   "source": []
  }
 ],
 "metadata": {
  "kernelspec": {
   "display_name": "Python 3",
   "language": "python",
   "name": "python3"
  },
  "language_info": {
   "codemirror_mode": {
    "name": "ipython",
    "version": 3
   },
   "file_extension": ".py",
   "mimetype": "text/x-python",
   "name": "python",
   "nbconvert_exporter": "python",
   "pygments_lexer": "ipython3",
   "version": "3.8.2"
  }
 },
 "nbformat": 4,
 "nbformat_minor": 2
}
