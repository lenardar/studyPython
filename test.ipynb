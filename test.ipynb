{
 "cells": [
  {
   "cell_type": "code",
   "execution_count": 10,
   "metadata": {},
   "outputs": [
    {
     "name": "stdout",
     "output_type": "stream",
     "text": [
      "[0.69514987 0.30350381]\n",
      "[6.32227154 4.17749558]\n",
      "[[-0.83042896 -0.54618274 -0.10987336]\n",
      " [-0.15387961  0.0353192   0.98745816]]\n",
      "[[ 1.54142174 -1.36262683]\n",
      " [ 2.15210398  0.7661691 ]\n",
      " [ 3.63858904 -0.10272866]\n",
      " [-1.76116846  3.33754316]\n",
      " [-2.04223062 -1.75362726]\n",
      " [-3.52871568 -0.8847295 ]]\n"
     ]
    }
   ],
   "source": [
    "import numpy as np\n",
    "from sklearn.decomposition import PCA\n",
    "\n",
    "X = np.array([[-1, -1, 1], [-2, -1, 3], [-3, -2,2], [1, 1, 6], [2, 1, 1], [3, 2, 2]])\n",
    "pca = PCA(n_components=2)\n",
    "pca.fit(X)\n",
    "print(pca.explained_variance_ratio_)\n",
    "print(pca.singular_values_)\n",
    "print(pca.components_)\n",
    "print(pca.transform(X)  )"
   ]
  },
  {
   "cell_type": "code",
   "execution_count": 1,
   "metadata": {},
   "outputs": [
    {
     "name": "stdout",
     "output_type": "stream",
     "text": [
      "[[1 2 3 4 5]]\n"
     ]
    }
   ],
   "source": [
    "import numpy as np \n",
    "a = np.array([1, 2, 3, 4, 5], ndmin =  2)  \n",
    "print (a)"
   ]
  },
  {
   "cell_type": "code",
   "execution_count": 2,
   "metadata": {},
   "outputs": [
    {
     "name": "stdout",
     "output_type": "stream",
     "text": [
      "[[1 2]\n",
      " [3 4]]\n"
     ]
    }
   ],
   "source": [
    "import numpy as np \n",
    "a = np.array([[1,  2],  [3,  4]])  \n",
    "print (a)\n"
   ]
  },
  {
   "cell_type": "code",
   "execution_count": 4,
   "metadata": {},
   "outputs": [
    {
     "name": "stdout",
     "output_type": "stream",
     "text": [
      "int32\n"
     ]
    }
   ],
   "source": [
    "import numpy as np\n",
    "\n",
    "dt = np.dtype('i4')\n",
    "print(dt)"
   ]
  },
  {
   "cell_type": "code",
   "execution_count": 3,
   "metadata": {},
   "outputs": [
    {
     "name": "stdout",
     "output_type": "stream",
     "text": [
      "1\n",
      "3\n"
     ]
    }
   ],
   "source": [
    "import numpy as np\n",
    "\n",
    "array = np.arange(24)\n",
    "print(array.ndim)\n",
    "\n",
    "print(array.reshape(2, 3, 4).ndim)"
   ]
  },
  {
   "cell_type": "code",
   "execution_count": 4,
   "metadata": {},
   "outputs": [
    {
     "name": "stdout",
     "output_type": "stream",
     "text": [
      "(2, 3)\n"
     ]
    }
   ],
   "source": [
    "import numpy as np  \n",
    " \n",
    "a = np.array([[1,2,3],[4,5,6]])  \n",
    "print (a.shape)"
   ]
  },
  {
   "cell_type": "code",
   "execution_count": 6,
   "metadata": {},
   "outputs": [
    {
     "name": "stdout",
     "output_type": "stream",
     "text": [
      "[[1 2]\n",
      " [3 4]\n",
      " [5 6]]\n"
     ]
    }
   ],
   "source": [
    "import numpy as np  \n",
    " \n",
    "a = np.array([[1,2,3],[4,5,6]]) \n",
    "a.shape = (3,2) \n",
    "print (a)"
   ]
  },
  {
   "cell_type": "code",
   "execution_count": 9,
   "metadata": {},
   "outputs": [
    {
     "name": "stdout",
     "output_type": "stream",
     "text": [
      "[[[1]\n",
      "  [2]]\n",
      "\n",
      " [[3]\n",
      "  [4]]\n",
      "\n",
      " [[5]\n",
      "  [6]]]\n"
     ]
    }
   ],
   "source": [
    "import numpy as np  \n",
    " \n",
    "a = np.array([[1,2,3],[4,5,6]]) \n",
    "a.shape = (3, 2, 1) \n",
    "print (a)"
   ]
  },
  {
   "cell_type": "code",
   "execution_count": 10,
   "metadata": {},
   "outputs": [
    {
     "name": "stdout",
     "output_type": "stream",
     "text": [
      "[[[[1]]\n",
      "\n",
      "  [[2]]]\n",
      "\n",
      "\n",
      " [[[3]]\n",
      "\n",
      "  [[4]]]\n",
      "\n",
      "\n",
      " [[[5]]\n",
      "\n",
      "  [[6]]]]\n"
     ]
    }
   ],
   "source": [
    "import numpy as np  \n",
    " \n",
    "a = np.array([[1,2,3],[4,5,6]]) \n",
    "a.shape = (3, 2, 1, 1) \n",
    "print (a)"
   ]
  },
  {
   "cell_type": "code",
   "execution_count": 16,
   "metadata": {},
   "outputs": [
    {
     "name": "stdout",
     "output_type": "stream",
     "text": [
      "[ 0  1  2  3  4  5  6  7  8  9 10 11]\n",
      "(12,)\n",
      "[[ 0]\n",
      " [ 1]\n",
      " [ 2]\n",
      " [ 3]\n",
      " [ 4]\n",
      " [ 5]\n",
      " [ 6]\n",
      " [ 7]\n",
      " [ 8]\n",
      " [ 9]\n",
      " [10]\n",
      " [11]]\n",
      "[[ 0  1  2  3  4  5  6  7  8  9 10 11]]\n"
     ]
    }
   ],
   "source": [
    "import numpy as np\n",
    "\n",
    "a = np.arange(12)\n",
    "print(a)\n",
    "print(a.shape)\n",
    "\n",
    "print(a.reshape(12, 1))\n",
    "print(a.reshape(1, 12))"
   ]
  },
  {
   "cell_type": "code",
   "execution_count": 17,
   "metadata": {},
   "outputs": [
    {
     "name": "stdout",
     "output_type": "stream",
     "text": [
      "1\n",
      "8\n"
     ]
    }
   ],
   "source": [
    "import numpy as np \n",
    " \n",
    "# 数组的 dtype 为 int8（一个字节）  \n",
    "x = np.array([1,2,3,4,5], dtype = np.int8)  \n",
    "print (x.itemsize)\n",
    " \n",
    "# 数组的 dtype 现在为 float64（八个字节） \n",
    "y = np.array([1,2,3,4,5], dtype = np.float64)  \n",
    "print (y.itemsize)"
   ]
  },
  {
   "cell_type": "code",
   "execution_count": 18,
   "metadata": {},
   "outputs": [
    {
     "name": "stdout",
     "output_type": "stream",
     "text": [
      "  C_CONTIGUOUS : True\n",
      "  F_CONTIGUOUS : True\n",
      "  OWNDATA : True\n",
      "  WRITEABLE : True\n",
      "  ALIGNED : True\n",
      "  WRITEBACKIFCOPY : False\n",
      "\n"
     ]
    }
   ],
   "source": [
    "import numpy as np \n",
    " \n",
    "x = np.array([1,2,3,4,5])  \n",
    "print (x.flags)"
   ]
  },
  {
   "cell_type": "code",
   "execution_count": 25,
   "metadata": {},
   "outputs": [
    {
     "name": "stdout",
     "output_type": "stream",
     "text": [
      "[[1 2]\n",
      " [3 4]\n",
      " [5 6]]\n"
     ]
    }
   ],
   "source": [
    "import numpy as np \n",
    "\n",
    "a = np.empty([3, 2], dtype = int)\n",
    "print(a)"
   ]
  },
  {
   "cell_type": "code",
   "execution_count": 29,
   "metadata": {},
   "outputs": [
    {
     "name": "stdout",
     "output_type": "stream",
     "text": [
      "[([0, 0, 0], 0., [[0., 0., 0.], [0., 0., 0.]])\n",
      " ([0, 0, 0], 0., [[0., 0., 0.], [0., 0., 0.]])\n",
      " ([0, 0, 0], 0., [[0., 0., 0.], [0., 0., 0.]])]\n",
      "[0 1 2]\n"
     ]
    }
   ],
   "source": [
    "x = np.zeros(3, dtype='3int8, float32, (2,3)float64')\n",
    "# 3int8 表示的是结构体的第一个元素是包含 3 个int元素的\n",
    "# float 就表示第二个元素只是单纯的一个float值\n",
    "# (2,3)float64 表示的是第三个元素是（2，3）的形状的 float元素\n",
    "print(x)\n",
    "print(np.arange(3))"
   ]
  },
  {
   "cell_type": "code",
   "execution_count": 37,
   "metadata": {},
   "outputs": [
    {
     "name": "stdout",
     "output_type": "stream",
     "text": [
      "[(0, 0, 0., [[0., 0., 0.], [0., 0., 0.]])\n",
      " (0, 0, 0., [[0., 0., 0.], [0., 0., 0.]])\n",
      " (0, 0, 0., [[0., 0., 0.], [0., 0., 0.]])]\n",
      "[('age', '<i4'), ('height', '<i8'), ('weight', '<f8'), ('width', '<f8', (2, 3))]\n",
      "('age', 'height', 'weight', 'width')\n",
      "修改字段名称\n",
      "('age', 'height', 'weight', 'width_adjusted')\n"
     ]
    }
   ],
   "source": [
    "x = np.zeros(3, dtype=[('age','int'), ('height','i8'), ('weight',float), ('width','float',(2,3))])\n",
    " \n",
    "print(x)\n",
    "print(x.dtype)\n",
    "print(x.dtype.names)  # 访问字段\n",
    "print('修改字段名称')\n",
    "x.dtype.names=('age','height','weight','width_adjusted')   #修改字段名称\n",
    "print(x.dtype.names)"
   ]
  },
  {
   "cell_type": "code",
   "execution_count": 40,
   "metadata": {},
   "outputs": [
    {
     "data": {
      "text/plain": [
       "array([(0, 0.), (0, 0.), (0, 0.)],\n",
       "      dtype={'names': ['age', 'weight'], 'formats': ['<i4', '<f8'], 'offsets': [0, 12], 'itemsize': 68})"
      ]
     },
     "execution_count": 40,
     "metadata": {},
     "output_type": "execute_result"
    }
   ],
   "source": [
    "x = np.zeros(3, dtype=[('age','int'), ('height','i8'), ('weight',float), ('width','float',(2,3))])\n",
    "\n",
    "x[['age', 'weight']]"
   ]
  },
  {
   "cell_type": "code",
   "execution_count": 41,
   "metadata": {},
   "outputs": [
    {
     "name": "stdout",
     "output_type": "stream",
     "text": [
      "[0. 0. 0. 0. 0.]\n",
      "[0 0 0 0 0]\n",
      "[[(0, 0) (0, 0)]\n",
      " [(0, 0) (0, 0)]]\n"
     ]
    }
   ],
   "source": [
    "import numpy as np\n",
    " \n",
    "# 默认为浮点数\n",
    "x = np.zeros(5) \n",
    "print(x)\n",
    " \n",
    "# 设置类型为整数\n",
    "y = np.zeros((5,), dtype = int) \n",
    "print(y)\n",
    " \n",
    "# 自定义类型\n",
    "z = np.zeros((2,2), dtype = [('x', 'i4'), ('y', 'i4')])  \n",
    "print(z)"
   ]
  },
  {
   "cell_type": "code",
   "execution_count": 42,
   "metadata": {},
   "outputs": [
    {
     "name": "stdout",
     "output_type": "stream",
     "text": [
      "[1. 1. 1. 1. 1.]\n",
      "[[1 1]\n",
      " [1 1]]\n"
     ]
    }
   ],
   "source": [
    "import numpy as np\n",
    " \n",
    "# 默认为浮点数\n",
    "x = np.ones(5) \n",
    "print(x)\n",
    " \n",
    "# 自定义类型\n",
    "x = np.ones([2,2], dtype = int)\n",
    "print(x)"
   ]
  },
  {
   "cell_type": "code",
   "execution_count": 49,
   "metadata": {},
   "outputs": [
    {
     "name": "stdout",
     "output_type": "stream",
     "text": [
      "[[1 1 1]\n",
      " [1 1 1]]\n",
      "[[0 0 0]\n",
      " [0 0 0]]\n"
     ]
    }
   ],
   "source": [
    "import numpy as np\n",
    "\n",
    "x = np.ones([2, 3], dtype = int)\n",
    "print(x)\n",
    "\n",
    "y = np.zeros_like(x)\n",
    "print(y)"
   ]
  },
  {
   "cell_type": "code",
   "execution_count": 50,
   "metadata": {},
   "outputs": [
    {
     "name": "stdout",
     "output_type": "stream",
     "text": [
      "[1 2 3]\n"
     ]
    }
   ],
   "source": [
    "import numpy as np\n",
    "\n",
    "li = [1, 2, 3]\n",
    "arr = np.asarray(li)\n",
    "print(arr)"
   ]
  },
  {
   "cell_type": "code",
   "execution_count": 55,
   "metadata": {},
   "outputs": [
    {
     "name": "stdout",
     "output_type": "stream",
     "text": [
      "[(1, 2, 3) (4, 5)]\n",
      "5\n"
     ]
    },
    {
     "name": "stderr",
     "output_type": "stream",
     "text": [
      "C:\\Users\\86151\\AppData\\Local\\Temp\\ipykernel_2996\\859323467.py:4: VisibleDeprecationWarning: Creating an ndarray from ragged nested sequences (which is a list-or-tuple of lists-or-tuples-or ndarrays with different lengths or shapes) is deprecated. If you meant to do this, you must specify 'dtype=object' when creating the ndarray.\n",
      "  arr = np.asarray(li)\n"
     ]
    }
   ],
   "source": [
    "import numpy as np\n",
    "\n",
    "li = [(1, 2, 3), (4, 5)]\n",
    "arr = np.asarray(li)\n",
    "print(arr)\n",
    "print(arr[1][1])"
   ]
  },
  {
   "cell_type": "code",
   "execution_count": 56,
   "metadata": {},
   "outputs": [
    {
     "name": "stdout",
     "output_type": "stream",
     "text": [
      "[b'H' b'e' b'l' b'l' b'o' b' ' b'W' b'o' b'r' b'l' b'd']\n"
     ]
    }
   ],
   "source": [
    "import numpy as np \n",
    " \n",
    "s =  b'Hello World' \n",
    "a = np.frombuffer(s, dtype =  'S1')  \n",
    "print (a)"
   ]
  },
  {
   "cell_type": "code",
   "execution_count": 57,
   "metadata": {},
   "outputs": [
    {
     "name": "stdout",
     "output_type": "stream",
     "text": [
      "[0 1 2 3 4]\n"
     ]
    }
   ],
   "source": [
    "import numpy as np\n",
    " \n",
    "x = np.arange(5)  \n",
    "print (x)"
   ]
  },
  {
   "cell_type": "code",
   "execution_count": 60,
   "metadata": {},
   "outputs": [
    {
     "name": "stdout",
     "output_type": "stream",
     "text": [
      "[10]\n"
     ]
    }
   ],
   "source": [
    "import numpy as np\n",
    "x = np.arange(10,20,11)  \n",
    "print (x)"
   ]
  },
  {
   "cell_type": "code",
   "execution_count": 61,
   "metadata": {},
   "outputs": [
    {
     "name": "stdout",
     "output_type": "stream",
     "text": [
      "[ 1.  2.  3.  4.  5.  6.  7.  8.  9. 10.]\n"
     ]
    }
   ],
   "source": [
    "import numpy as np\n",
    "a = np.linspace(1,10,10)\n",
    "print(a)"
   ]
  },
  {
   "cell_type": "code",
   "execution_count": 64,
   "metadata": {},
   "outputs": [
    {
     "name": "stdout",
     "output_type": "stream",
     "text": [
      "[ 1.          0.77777778  0.55555556  0.33333333  0.11111111 -0.11111111\n",
      " -0.33333333 -0.55555556 -0.77777778 -1.        ]\n"
     ]
    }
   ],
   "source": [
    "import numpy as np\n",
    "a = np.linspace(1,-1,10)\n",
    "print(a)\n"
   ]
  },
  {
   "cell_type": "code",
   "execution_count": 65,
   "metadata": {},
   "outputs": [
    {
     "name": "stdout",
     "output_type": "stream",
     "text": [
      "[10. 12. 14. 16. 18.]\n",
      "[10.  12.5 15.  17.5 20. ]\n"
     ]
    }
   ],
   "source": [
    "import numpy as np\n",
    " \n",
    "# 不包含终点\n",
    "a = np.linspace(10, 20,  5, endpoint =  False)  \n",
    "print(a)\n",
    "\n",
    "# 包含终点\n",
    "b = np.linspace(10, 20,  5, endpoint =  True)  \n",
    "print(b)"
   ]
  },
  {
   "cell_type": "code",
   "execution_count": 67,
   "metadata": {},
   "outputs": [
    {
     "name": "stdout",
     "output_type": "stream",
     "text": [
      "(array([ 1. ,  1.9,  2.8,  3.7,  4.6,  5.5,  6.4,  7.3,  8.2,  9.1, 10. ]), 0.9)\n"
     ]
    }
   ],
   "source": [
    "import numpy as np\n",
    "a =np.linspace(1,10,11,retstep= True)\n",
    " \n",
    "print(a)"
   ]
  },
  {
   "cell_type": "code",
   "execution_count": 69,
   "metadata": {},
   "outputs": [
    {
     "name": "stdout",
     "output_type": "stream",
     "text": [
      "[ 2  4  6  8 10 12]\n"
     ]
    }
   ],
   "source": [
    "import numpy as np\n",
    "\n",
    "a = np.arange(14)\n",
    "s = slice(2, 18, 2)\n",
    "print(a[s])"
   ]
  },
  {
   "cell_type": "code",
   "execution_count": 71,
   "metadata": {},
   "outputs": [
    {
     "name": "stdout",
     "output_type": "stream",
     "text": [
      "[ 2  4  6  8 10 12]\n"
     ]
    }
   ],
   "source": [
    "import numpy as np\n",
    "\n",
    "a = np.arange(14)\n",
    "print(a[2: 17: 2])"
   ]
  },
  {
   "cell_type": "code",
   "execution_count": 74,
   "metadata": {},
   "outputs": [
    {
     "name": "stdout",
     "output_type": "stream",
     "text": [
      "[[1 2 3]\n",
      " [3 4 5]\n",
      " [4 5 6]]\n",
      "从数组索引 a[1:] 处开始切割\n",
      "4\n"
     ]
    }
   ],
   "source": [
    "import numpy as np\n",
    " \n",
    "a = np.array([[1,2,3],[3,4,5],[4,5,6]])\n",
    "print(a)\n",
    "# 从某个索引处开始切割\n",
    "print('从数组索引 a[1:] 处开始切割')\n",
    "print(a[1:][1][0])"
   ]
  },
  {
   "cell_type": "code",
   "execution_count": 75,
   "metadata": {},
   "outputs": [
    {
     "name": "stdout",
     "output_type": "stream",
     "text": [
      "我们的数组是：\n",
      "[[ 0  1  2]\n",
      " [ 3  4  5]\n",
      " [ 6  7  8]\n",
      " [ 9 10 11]]\n",
      "\n",
      "\n",
      "大于 5 的元素是：\n",
      "[ 6  7  8  9 10 11]\n"
     ]
    }
   ],
   "source": [
    "import numpy as np \n",
    " \n",
    "x = np.array([[  0,  1,  2],[  3,  4,  5],[  6,  7,  8],[  9,  10,  11]])  \n",
    "print ('我们的数组是：')\n",
    "print (x)\n",
    "print ('\\n')\n",
    "# 现在我们会打印出大于 5 的元素  \n",
    "print  ('大于 5 的元素是：')\n",
    "print (x[x >  5])"
   ]
  },
  {
   "cell_type": "code",
   "execution_count": 77,
   "metadata": {},
   "outputs": [
    {
     "name": "stdout",
     "output_type": "stream",
     "text": [
      "[0 1 2 3]\n",
      "[4 5 6 7]\n",
      "[ 8  9 10 11]\n"
     ]
    }
   ],
   "source": [
    "import numpy as np\n",
    "\n",
    "a = np.arange(12).reshape(3, 4)\n",
    "\n",
    "for i in a:\n",
    "    print(i)"
   ]
  },
  {
   "cell_type": "code",
   "execution_count": 79,
   "metadata": {},
   "outputs": [
    {
     "name": "stdout",
     "output_type": "stream",
     "text": [
      "0,1,2,3,4,5,6,7,8,9,10,11,"
     ]
    }
   ],
   "source": [
    "import numpy as np\n",
    "\n",
    "a = np.arange(12).reshape(3, 4)\n",
    "\n",
    "for i in np.nditer(a):\n",
    "    print(i, end=',')"
   ]
  },
  {
   "cell_type": "code",
   "execution_count": 81,
   "metadata": {},
   "outputs": [
    {
     "name": "stdout",
     "output_type": "stream",
     "text": [
      "0,1,2,3,4,5,6,7,8,9,10,11,"
     ]
    }
   ],
   "source": [
    "import numpy as np\n",
    "\n",
    "a = np.arange(12).reshape(3, 4)\n",
    "\n",
    "for i in np.nditer(a.T):\n",
    "    print(i, end=',')"
   ]
  },
  {
   "cell_type": "code",
   "execution_count": 83,
   "metadata": {},
   "outputs": [
    {
     "name": "stdout",
     "output_type": "stream",
     "text": [
      "原始数组：\n",
      "[0 1 2]\n",
      "[3 4 5]\n",
      "[6 7 8]\n",
      "迭代后的数组：\n",
      "0\n",
      "1\n",
      "2\n",
      "3\n",
      "4\n",
      "5\n",
      "6\n",
      "7\n",
      "8\n",
      "[[0 1 2]\n",
      " [3 4 5]\n",
      " [6 7 8]]\n"
     ]
    }
   ],
   "source": [
    "import numpy as np\n",
    " \n",
    "a = np.arange(9).reshape(3,3) \n",
    "print ('原始数组：')\n",
    "for row in a:\n",
    "    print (row)\n",
    " \n",
    "#对数组中每个元素都进行处理，可以使用flat属性，该属性是一个数组元素迭代器：\n",
    "print ('迭代后的数组：')\n",
    "for element in a.flat:\n",
    "    print (element)\n",
    "    \n",
    "print(a)"
   ]
  },
  {
   "cell_type": "code",
   "execution_count": 84,
   "metadata": {},
   "outputs": [
    {
     "name": "stdout",
     "output_type": "stream",
     "text": [
      "原数组：\n",
      "[[[0 1]\n",
      "  [2 3]]\n",
      "\n",
      " [[4 5]\n",
      "  [6 7]]]\n",
      "获取数组中一个值：\n",
      "(array([1], dtype=int64), array([1], dtype=int64), array([0], dtype=int64))\n",
      "6\n",
      "\n",
      "\n",
      "调用 rollaxis 函数：\n",
      "[[[0 2]\n",
      "  [4 6]]\n",
      "\n",
      " [[1 3]\n",
      "  [5 7]]]\n",
      "(array([0], dtype=int64), array([1], dtype=int64), array([1], dtype=int64))\n",
      "\n",
      "\n",
      "调用 rollaxis 函数：\n",
      "[[[0 2]\n",
      "  [1 3]]\n",
      "\n",
      " [[4 6]\n",
      "  [5 7]]]\n",
      "(array([1], dtype=int64), array([0], dtype=int64), array([1], dtype=int64))\n",
      "\n",
      "\n"
     ]
    }
   ],
   "source": [
    "import numpy as np\n",
    " \n",
    "# 创建了三维的 ndarray\n",
    "a = np.arange(8).reshape(2,2,2)\n",
    " \n",
    "print ('原数组：')\n",
    "print (a)\n",
    "print ('获取数组中一个值：')\n",
    "print(np.where(a==6))   \n",
    "print(a[1,1,0])  # 为 6\n",
    "print ('\\n')\n",
    " \n",
    " \n",
    "# 将轴 2 滚动到轴 0（宽度到深度）\n",
    " \n",
    "print ('调用 rollaxis 函数：')\n",
    "b = np.rollaxis(a,2,0)\n",
    "print (b)\n",
    "# 查看元素 a[1,1,0]，即 6 的坐标，变成 [0, 1, 1]\n",
    "# 最后一个 0 移动到最前面\n",
    "print(np.where(b==6))   \n",
    "print ('\\n')\n",
    " \n",
    "# 将轴 2 滚动到轴 1：（宽度到高度）\n",
    " \n",
    "print ('调用 rollaxis 函数：')\n",
    "c = np.rollaxis(a,2,1)\n",
    "print (c)\n",
    "# 查看元素 a[1,1,0]，即 6 的坐标，变成 [1, 0, 1]\n",
    "# 最后的 0 和 它前面的 1 对换位置\n",
    "print(np.where(c==6))   \n",
    "print ('\\n')"
   ]
  },
  {
   "cell_type": "code",
   "execution_count": 85,
   "metadata": {},
   "outputs": [
    {
     "name": "stdout",
     "output_type": "stream",
     "text": [
      "对 y 广播 x：\n",
      "1 4\n",
      "1 5\n",
      "\n",
      "\n",
      "广播对象的形状：\n",
      "(3, 3)\n",
      "\n",
      "\n",
      "手动使用 broadcast 将 x 与 y 相加：\n",
      "(3, 3)\n",
      "\n",
      "\n",
      "调用 flat 函数：\n",
      "[[5. 6. 7.]\n",
      " [6. 7. 8.]\n",
      " [7. 8. 9.]]\n",
      "\n",
      "\n",
      "x 与 y 的和：\n",
      "[[5 6 7]\n",
      " [6 7 8]\n",
      " [7 8 9]]\n"
     ]
    }
   ],
   "source": [
    "import numpy as np\n",
    " \n",
    "x = np.array([[1], [2], [3]])\n",
    "y = np.array([4, 5, 6])  \n",
    " \n",
    "# 对 y 广播 x\n",
    "b = np.broadcast(x,y)  \n",
    "# 它拥有 iterator 属性，基于自身组件的迭代器元组\n",
    " \n",
    "print ('对 y 广播 x：')\n",
    "r,c = b.iters\n",
    " \n",
    "# Python3.x 为 next(context) ，Python2.x 为 context.next()\n",
    "print (next(r), next(c))\n",
    "print (next(r), next(c))\n",
    "print ('\\n')\n",
    "# shape 属性返回广播对象的形状\n",
    " \n",
    "print ('广播对象的形状：')\n",
    "print (b.shape)\n",
    "print ('\\n')\n",
    "# 手动使用 broadcast 将 x 与 y 相加\n",
    "b = np.broadcast(x,y)\n",
    "c = np.empty(b.shape)\n",
    " \n",
    "print ('手动使用 broadcast 将 x 与 y 相加：')\n",
    "print (c.shape)\n",
    "print ('\\n')\n",
    "c.flat = [u + v for (u,v) in b]\n",
    " \n",
    "print ('调用 flat 函数：')\n",
    "print (c)\n",
    "print ('\\n')\n",
    "# 获得了和 NumPy 内建的广播支持相同的结果\n",
    " \n",
    "print ('x 与 y 的和：')\n",
    "print (x + y)"
   ]
  },
  {
   "cell_type": "code",
   "execution_count": 86,
   "metadata": {},
   "outputs": [
    {
     "name": "stdout",
     "output_type": "stream",
     "text": [
      "第一个数组：\n",
      "[[0. 1. 2.]\n",
      " [3. 4. 5.]\n",
      " [6. 7. 8.]]\n",
      "\n",
      "\n",
      "第二个数组：\n",
      "[10 10 10]\n",
      "\n",
      "\n",
      "[[ 0. 10. 20.]\n",
      " [30. 40. 50.]\n",
      " [60. 70. 80.]]\n"
     ]
    }
   ],
   "source": [
    "import numpy as np \n",
    " \n",
    "a = np.arange(9, dtype = np.float_).reshape(3,3)  \n",
    "print ('第一个数组：')\n",
    "print (a)\n",
    "print ('\\n')\n",
    "print ('第二个数组：')\n",
    "b = np.array([10,10,10])  \n",
    "print (b)\n",
    "print ('\\n')\n",
    "\n",
    "print(a*b)"
   ]
  },
  {
   "cell_type": "code",
   "execution_count": 4,
   "metadata": {},
   "outputs": [
    {
     "name": "stdout",
     "output_type": "stream",
     "text": [
      "[[150   1]\n",
      " [200   1]\n",
      " [250   1]\n",
      " [300   1]\n",
      " [350   1]\n",
      " [400   1]\n",
      " [600   1]]\n",
      "[[0.]\n",
      " [0.]]\n",
      "[[0.]\n",
      " [0.]\n",
      " [0.]\n",
      " [0.]\n",
      " [0.]\n",
      " [0.]\n",
      " [0.]]\n"
     ]
    }
   ],
   "source": [
    "# 矩阵乘法\n",
    "import numpy as np\n",
    "\n",
    "X = np.array([[150, 1],[200, 1],[250, 1],[300, 1],[350, 1],[400, 1],[600, 1]])\n",
    "print(X)\n",
    "\n",
    "omega = np.zeros((2, 1))\n",
    "print(omega)\n",
    "\n",
    "z = X@omega\n",
    "print(z)"
   ]
  },
  {
   "cell_type": "code",
   "execution_count": 18,
   "metadata": {},
   "outputs": [
    {
     "name": "stdout",
     "output_type": "stream",
     "text": [
      "0\n"
     ]
    }
   ],
   "source": [
    "import random\n",
    "\n",
    "m = 10\n",
    "\n",
    "j = random.randint(0, m - 1)\n",
    "print(j)"
   ]
  },
  {
   "cell_type": "code",
   "execution_count": 2,
   "metadata": {},
   "outputs": [
    {
     "data": {
      "text/latex": [
       "$\\displaystyle 1.1$"
      ],
      "text/plain": [
       "1.10000000000000"
      ]
     },
     "execution_count": 2,
     "metadata": {},
     "output_type": "execute_result"
    }
   ],
   "source": [
    "from sympy import Float \n",
    "Float(1.1)"
   ]
  },
  {
   "cell_type": "code",
   "execution_count": 5,
   "metadata": {},
   "outputs": [
    {
     "data": {
      "text/latex": [
       "$\\displaystyle \\frac{3}{4}$"
      ],
      "text/plain": [
       "3/4"
      ]
     },
     "execution_count": 5,
     "metadata": {},
     "output_type": "execute_result"
    }
   ],
   "source": [
    "from sympy import Rational\n",
    "\n",
    "Rational(3/4)"
   ]
  },
  {
   "cell_type": "code",
   "execution_count": 8,
   "metadata": {},
   "outputs": [
    {
     "data": {
      "text/latex": [
       "$\\displaystyle x + 2 y^{2}$"
      ],
      "text/plain": [
       "x + 2*y**2"
      ]
     },
     "execution_count": 8,
     "metadata": {},
     "output_type": "execute_result"
    }
   ],
   "source": [
    "from sympy import Symbol\n",
    "\n",
    "x = Symbol('x')\n",
    "y = Symbol('y')\n",
    "expr = x + 2*y**2\n",
    "expr"
   ]
  },
  {
   "cell_type": "code",
   "execution_count": 9,
   "metadata": {},
   "outputs": [
    {
     "data": {
      "text/latex": [
       "$\\displaystyle side^{3}$"
      ],
      "text/plain": [
       "side**3"
      ]
     },
     "execution_count": 9,
     "metadata": {},
     "output_type": "execute_result"
    }
   ],
   "source": [
    "s=Symbol('side') \n",
    "s**3"
   ]
  },
  {
   "cell_type": "code",
   "execution_count": 10,
   "metadata": {},
   "outputs": [],
   "source": [
    "from sympy import symbols\n",
    "x, y, z = symbols('x y z')"
   ]
  },
  {
   "cell_type": "code",
   "execution_count": 11,
   "metadata": {},
   "outputs": [
    {
     "data": {
      "text/latex": [
       "$\\displaystyle x^{2} + y^{2} + z^{2}$"
      ],
      "text/plain": [
       "x**2 + y**2 + z**2"
      ]
     },
     "execution_count": 11,
     "metadata": {},
     "output_type": "execute_result"
    }
   ],
   "source": [
    "from sympy.abc import x, y, z\n",
    "x**2 + y**2 + z**2"
   ]
  },
  {
   "cell_type": "code",
   "execution_count": 15,
   "metadata": {},
   "outputs": [
    {
     "name": "stdout",
     "output_type": "stream",
     "text": [
      "(a0, a1, a2, a3, a4)\n",
      "a0\n"
     ]
    }
   ],
   "source": [
    "from sympy import symbols\n",
    "list_symbols = symbols('a:5')\n",
    "print(list_symbols)\n",
    "print(list_symbols[0])"
   ]
  },
  {
   "cell_type": "code",
   "execution_count": 19,
   "metadata": {},
   "outputs": [
    {
     "data": {
      "text/latex": [
       "$\\displaystyle \\sin^{2}{\\left(x \\right)} + \\cos^{2}{\\left(x \\right)}$"
      ],
      "text/plain": [
       "sin(x)**2 + cos(x)**2"
      ]
     },
     "execution_count": 19,
     "metadata": {},
     "output_type": "execute_result"
    }
   ],
   "source": [
    "from sympy import *\n",
    "\n",
    "x = symbols('x')\n",
    "a = symbols('a')\n",
    "expr = sin(x)**2+cos(x)**2\n",
    "expr"
   ]
  },
  {
   "cell_type": "code",
   "execution_count": 20,
   "metadata": {},
   "outputs": [
    {
     "data": {
      "text/latex": [
       "$\\displaystyle \\sin^{2}{\\left(a \\right)} + \\cos^{2}{\\left(a \\right)}$"
      ],
      "text/plain": [
       "sin(a)**2 + cos(a)**2"
      ]
     },
     "execution_count": 20,
     "metadata": {},
     "output_type": "execute_result"
    }
   ],
   "source": [
    "expr.subs(x, a)"
   ]
  },
  {
   "cell_type": "code",
   "execution_count": 21,
   "metadata": {},
   "outputs": [
    {
     "data": {
      "text/latex": [
       "$\\displaystyle 1$"
      ],
      "text/plain": [
       "1"
      ]
     },
     "execution_count": 21,
     "metadata": {},
     "output_type": "execute_result"
    }
   ],
   "source": [
    "expr.subs(x, 0)"
   ]
  },
  {
   "cell_type": "code",
   "execution_count": 22,
   "metadata": {},
   "outputs": [
    {
     "data": {
      "text/latex": [
       "$\\displaystyle \\left(2 a + b\\right)^{2}$"
      ],
      "text/plain": [
       "(2*a + b)**2"
      ]
     },
     "execution_count": 22,
     "metadata": {},
     "output_type": "execute_result"
    }
   ],
   "source": [
    "from sympy.abc import a,b \n",
    "\n",
    "expr=(a+b)**2\n",
    "expr1=expr.subs(b,a+b) \n",
    "expr1"
   ]
  },
  {
   "cell_type": "code",
   "execution_count": 25,
   "metadata": {},
   "outputs": [
    {
     "data": {
      "text/latex": [
       "$\\displaystyle 12$"
      ],
      "text/plain": [
       "12"
      ]
     },
     "execution_count": 25,
     "metadata": {},
     "output_type": "execute_result"
    }
   ],
   "source": [
    "from sympy import *\n",
    "\n",
    "expr=\"x**2+3*x+2\" \n",
    "expr1=sympify(expr)\n",
    "expr1.subs(x,2)"
   ]
  },
  {
   "cell_type": "code",
   "execution_count": 27,
   "metadata": {},
   "outputs": [
    {
     "ename": "SympifyError",
     "evalue": "Sympify of expression 'could not parse 'x***2'' failed, because of exception being raised:\nSyntaxError: invalid syntax (<string>, line 1)",
     "output_type": "error",
     "traceback": [
      "\u001b[1;31m---------------------------------------------------------------------------\u001b[0m",
      "\u001b[1;31mValueError\u001b[0m                                Traceback (most recent call last)",
      "\u001b[1;31mValueError\u001b[0m: Error from parse_expr with transformed code: \"Symbol ('x' )***Integer (2 )\"",
      "\nThe above exception was the direct cause of the following exception:\n",
      "\u001b[1;31mSyntaxError\u001b[0m                               Traceback (most recent call last)",
      "File \u001b[1;32m~\\AppData\\Roaming\\Python\\Python38\\site-packages\\sympy\\core\\sympify.py:496\u001b[0m, in \u001b[0;36msympify\u001b[1;34m(a, locals, convert_xor, strict, rational, evaluate)\u001b[0m\n\u001b[0;32m    495\u001b[0m     a \u001b[38;5;241m=\u001b[39m a\u001b[38;5;241m.\u001b[39mreplace(\u001b[38;5;124m'\u001b[39m\u001b[38;5;130;01m\\n\u001b[39;00m\u001b[38;5;124m'\u001b[39m, \u001b[38;5;124m'\u001b[39m\u001b[38;5;124m'\u001b[39m)\n\u001b[1;32m--> 496\u001b[0m     expr \u001b[38;5;241m=\u001b[39m \u001b[43mparse_expr\u001b[49m\u001b[43m(\u001b[49m\u001b[43ma\u001b[49m\u001b[43m,\u001b[49m\u001b[43m \u001b[49m\u001b[43mlocal_dict\u001b[49m\u001b[38;5;241;43m=\u001b[39;49m\u001b[38;5;28;43mlocals\u001b[39;49m\u001b[43m,\u001b[49m\u001b[43m \u001b[49m\u001b[43mtransformations\u001b[49m\u001b[38;5;241;43m=\u001b[39;49m\u001b[43mtransformations\u001b[49m\u001b[43m,\u001b[49m\u001b[43m \u001b[49m\u001b[43mevaluate\u001b[49m\u001b[38;5;241;43m=\u001b[39;49m\u001b[43mevaluate\u001b[49m\u001b[43m)\u001b[49m\n\u001b[0;32m    497\u001b[0m \u001b[38;5;28;01mexcept\u001b[39;00m (TokenError, \u001b[38;5;167;01mSyntaxError\u001b[39;00m) \u001b[38;5;28;01mas\u001b[39;00m exc:\n",
      "File \u001b[1;32m~\\AppData\\Roaming\\Python\\Python38\\site-packages\\sympy\\parsing\\sympy_parser.py:1101\u001b[0m, in \u001b[0;36mparse_expr\u001b[1;34m(s, local_dict, transformations, global_dict, evaluate)\u001b[0m\n\u001b[0;32m   1100\u001b[0m     local_dict[i] \u001b[38;5;241m=\u001b[39m null\n\u001b[1;32m-> 1101\u001b[0m \u001b[38;5;28;01mraise\u001b[39;00m e \u001b[38;5;28;01mfrom\u001b[39;00m \u001b[38;5;21;01mValueError\u001b[39;00m(\u001b[38;5;124mf\u001b[39m\u001b[38;5;124m\"\u001b[39m\u001b[38;5;124mError from parse_expr with transformed code: \u001b[39m\u001b[38;5;132;01m{\u001b[39;00mcode\u001b[38;5;132;01m!r}\u001b[39;00m\u001b[38;5;124m\"\u001b[39m)\n",
      "File \u001b[1;32m~\\AppData\\Roaming\\Python\\Python38\\site-packages\\sympy\\parsing\\sympy_parser.py:1092\u001b[0m, in \u001b[0;36mparse_expr\u001b[1;34m(s, local_dict, transformations, global_dict, evaluate)\u001b[0m\n\u001b[0;32m   1091\u001b[0m \u001b[38;5;28;01mtry\u001b[39;00m:\n\u001b[1;32m-> 1092\u001b[0m     rv \u001b[38;5;241m=\u001b[39m \u001b[43meval_expr\u001b[49m\u001b[43m(\u001b[49m\u001b[43mcode\u001b[49m\u001b[43m,\u001b[49m\u001b[43m \u001b[49m\u001b[43mlocal_dict\u001b[49m\u001b[43m,\u001b[49m\u001b[43m \u001b[49m\u001b[43mglobal_dict\u001b[49m\u001b[43m)\u001b[49m\n\u001b[0;32m   1093\u001b[0m     \u001b[38;5;66;03m# restore neutral definitions for names\u001b[39;00m\n",
      "File \u001b[1;32m~\\AppData\\Roaming\\Python\\Python38\\site-packages\\sympy\\parsing\\sympy_parser.py:907\u001b[0m, in \u001b[0;36meval_expr\u001b[1;34m(code, local_dict, global_dict)\u001b[0m\n\u001b[0;32m    902\u001b[0m \u001b[38;5;250m\u001b[39m\u001b[38;5;124;03m\"\"\"\u001b[39;00m\n\u001b[0;32m    903\u001b[0m \u001b[38;5;124;03mEvaluate Python code generated by ``stringify_expr``.\u001b[39;00m\n\u001b[0;32m    904\u001b[0m \n\u001b[0;32m    905\u001b[0m \u001b[38;5;124;03mGenerally, ``parse_expr`` should be used.\u001b[39;00m\n\u001b[0;32m    906\u001b[0m \u001b[38;5;124;03m\"\"\"\u001b[39;00m\n\u001b[1;32m--> 907\u001b[0m expr \u001b[38;5;241m=\u001b[39m \u001b[38;5;28;43meval\u001b[39;49m\u001b[43m(\u001b[49m\n\u001b[0;32m    908\u001b[0m \u001b[43m    \u001b[49m\u001b[43mcode\u001b[49m\u001b[43m,\u001b[49m\u001b[43m \u001b[49m\u001b[43mglobal_dict\u001b[49m\u001b[43m,\u001b[49m\u001b[43m \u001b[49m\u001b[43mlocal_dict\u001b[49m\u001b[43m)\u001b[49m  \u001b[38;5;66;03m# take local objects in preference\u001b[39;00m\n\u001b[0;32m    909\u001b[0m \u001b[38;5;28;01mreturn\u001b[39;00m expr\n",
      "\u001b[1;31mSyntaxError\u001b[0m: invalid syntax (<string>, line 1)",
      "\nDuring handling of the above exception, another exception occurred:\n",
      "\u001b[1;31mSympifyError\u001b[0m                              Traceback (most recent call last)",
      "Cell \u001b[1;32mIn[27], line 2\u001b[0m\n\u001b[0;32m      1\u001b[0m \u001b[38;5;28;01mfrom\u001b[39;00m \u001b[38;5;21;01msympy\u001b[39;00m \u001b[38;5;28;01mimport\u001b[39;00m \u001b[38;5;241m*\u001b[39m\n\u001b[1;32m----> 2\u001b[0m \u001b[43msympify\u001b[49m\u001b[43m(\u001b[49m\u001b[38;5;124;43m\"\u001b[39;49m\u001b[38;5;124;43mx***2\u001b[39;49m\u001b[38;5;124;43m\"\u001b[39;49m\u001b[43m)\u001b[49m\n",
      "File \u001b[1;32m~\\AppData\\Roaming\\Python\\Python38\\site-packages\\sympy\\core\\sympify.py:498\u001b[0m, in \u001b[0;36msympify\u001b[1;34m(a, locals, convert_xor, strict, rational, evaluate)\u001b[0m\n\u001b[0;32m    496\u001b[0m     expr \u001b[38;5;241m=\u001b[39m parse_expr(a, local_dict\u001b[38;5;241m=\u001b[39m\u001b[38;5;28mlocals\u001b[39m, transformations\u001b[38;5;241m=\u001b[39mtransformations, evaluate\u001b[38;5;241m=\u001b[39mevaluate)\n\u001b[0;32m    497\u001b[0m \u001b[38;5;28;01mexcept\u001b[39;00m (TokenError, \u001b[38;5;167;01mSyntaxError\u001b[39;00m) \u001b[38;5;28;01mas\u001b[39;00m exc:\n\u001b[1;32m--> 498\u001b[0m     \u001b[38;5;28;01mraise\u001b[39;00m SympifyError(\u001b[38;5;124m'\u001b[39m\u001b[38;5;124mcould not parse \u001b[39m\u001b[38;5;132;01m%r\u001b[39;00m\u001b[38;5;124m'\u001b[39m \u001b[38;5;241m%\u001b[39m a, exc)\n\u001b[0;32m    500\u001b[0m \u001b[38;5;28;01mreturn\u001b[39;00m expr\n",
      "\u001b[1;31mSympifyError\u001b[0m: Sympify of expression 'could not parse 'x***2'' failed, because of exception being raised:\nSyntaxError: invalid syntax (<string>, line 1)"
     ]
    }
   ],
   "source": [
    "from sympy import *\n",
    "sympify(\"x***2\")"
   ]
  },
  {
   "cell_type": "code",
   "execution_count": 28,
   "metadata": {},
   "outputs": [
    {
     "data": {
      "text/latex": [
       "$\\displaystyle 4$"
      ],
      "text/plain": [
       "4"
      ]
     },
     "execution_count": 28,
     "metadata": {},
     "output_type": "execute_result"
    }
   ],
   "source": [
    "sympify(\"10/5+4/2\")"
   ]
  },
  {
   "cell_type": "code",
   "execution_count": 29,
   "metadata": {},
   "outputs": [
    {
     "data": {
      "text/latex": [
       "$\\displaystyle \\frac{10}{5} + \\frac{4}{2}$"
      ],
      "text/plain": [
       "10/5 + 4/2"
      ]
     },
     "execution_count": 29,
     "metadata": {},
     "output_type": "execute_result"
    }
   ],
   "source": [
    "sympify(\"10/5+4/2\", evaluate=False)"
   ]
  },
  {
   "cell_type": "code",
   "execution_count": 31,
   "metadata": {},
   "outputs": [
    {
     "data": {
      "text/latex": [
       "$\\displaystyle 78.5398163397448$"
      ],
      "text/plain": [
       "78.5398163397448"
      ]
     },
     "execution_count": 31,
     "metadata": {},
     "output_type": "execute_result"
    }
   ],
   "source": [
    "from sympy.abc import r \n",
    "\n",
    "expr=pi*r**2 \n",
    "expr\n",
    "expr.evalf(subs={r:5})"
   ]
  },
  {
   "cell_type": "code",
   "execution_count": 32,
   "metadata": {},
   "outputs": [
    {
     "data": {
      "text/latex": [
       "$\\displaystyle 3.3333333333333333333$"
      ],
      "text/plain": [
       "3.3333333333333333333"
      ]
     },
     "execution_count": 32,
     "metadata": {},
     "output_type": "execute_result"
    }
   ],
   "source": [
    "expr=a/b\n",
    "expr.evalf(20, subs={a:10, b:3})"
   ]
  },
  {
   "cell_type": "code",
   "execution_count": 33,
   "metadata": {},
   "outputs": [
    {
     "data": {
      "text/plain": [
       "627.8831939138764"
      ]
     },
     "execution_count": 33,
     "metadata": {},
     "output_type": "execute_result"
    }
   ],
   "source": [
    "expr=1/sin(x)\n",
    "f=lambdify(x, expr) \n",
    "f(3.14)"
   ]
  },
  {
   "cell_type": "code",
   "execution_count": 34,
   "metadata": {},
   "outputs": [
    {
     "data": {
      "text/plain": [
       "13"
      ]
     },
     "execution_count": 34,
     "metadata": {},
     "output_type": "execute_result"
    }
   ],
   "source": [
    "expr=a**2+b**2\n",
    "f=lambdify([a,b],expr)\n",
    "f(2,3)"
   ]
  },
  {
   "cell_type": "code",
   "execution_count": 36,
   "metadata": {},
   "outputs": [
    {
     "data": {
      "text/plain": [
       "array([ 37,  53,  73,  97, 125])"
      ]
     },
     "execution_count": 36,
     "metadata": {},
     "output_type": "execute_result"
    }
   ],
   "source": [
    "f=lambdify([a,b],expr, \"numpy\")\n",
    "\n",
    "import numpy \n",
    "\n",
    "l1=numpy.arange(1,6) \n",
    "l2=numpy.arange(6,11) \n",
    "f(l1,l2)"
   ]
  },
  {
   "cell_type": "code",
   "execution_count": 41,
   "metadata": {},
   "outputs": [
    {
     "data": {
      "text/plain": [
       "(True, True)"
      ]
     },
     "execution_count": 41,
     "metadata": {},
     "output_type": "execute_result"
    }
   ],
   "source": [
    "from sympy import *\n",
    "\n",
    "x = sympify(true)\n",
    "x, S.true"
   ]
  },
  {
   "cell_type": "code",
   "execution_count": 42,
   "metadata": {},
   "outputs": [
    {
     "data": {
      "text/plain": [
       "(False, False)"
      ]
     },
     "execution_count": 42,
     "metadata": {},
     "output_type": "execute_result"
    }
   ],
   "source": [
    "from sympy import *\n",
    "\n",
    "x = sympify(false)\n",
    "x, S.false"
   ]
  },
  {
   "cell_type": "code",
   "execution_count": 44,
   "metadata": {},
   "outputs": [
    {
     "data": {
      "text/plain": [
       "(True, True)"
      ]
     },
     "execution_count": 44,
     "metadata": {},
     "output_type": "execute_result"
    }
   ],
   "source": [
    "from sympy import * \n",
    "from sympy.logic.boolalg import And\n",
    "\n",
    "x,y=symbols('x y') \n",
    "x=True\n",
    "y=True\n",
    "\n",
    "And(x,y), x&y"
   ]
  },
  {
   "cell_type": "code",
   "execution_count": 45,
   "metadata": {},
   "outputs": [
    {
     "data": {
      "text/plain": [
       "(True, True)"
      ]
     },
     "execution_count": 45,
     "metadata": {},
     "output_type": "execute_result"
    }
   ],
   "source": [
    "from sympy import * \n",
    "from sympy.logic.boolalg import Or \n",
    "\n",
    "x,y=symbols('x y') \n",
    "x=True \n",
    "y=False \n",
    "Or(x,y), x|y"
   ]
  },
  {
   "cell_type": "code",
   "execution_count": 46,
   "metadata": {},
   "outputs": [
    {
     "data": {
      "text/plain": [
       "(False, True)"
      ]
     },
     "execution_count": 46,
     "metadata": {},
     "output_type": "execute_result"
    }
   ],
   "source": [
    "from sympy import * \n",
    "from sympy.logic.boolalg import Or, And, Not \n",
    "\n",
    "x,y=symbols('x y') \n",
    "x=True \n",
    "y=False\n",
    "\n",
    "Not(x), Not(y)"
   ]
  },
  {
   "cell_type": "code",
   "execution_count": 49,
   "metadata": {},
   "outputs": [
    {
     "data": {
      "text/plain": [
       "(True, True)"
      ]
     },
     "execution_count": 49,
     "metadata": {},
     "output_type": "execute_result"
    }
   ],
   "source": [
    "from sympy import * \n",
    "from sympy.logic.boolalg import Xor \n",
    "\n",
    "x,y=symbols('x y') \n",
    "x=True \n",
    "y=False\n",
    "Xor(x,y), x^y"
   ]
  },
  {
   "cell_type": "code",
   "execution_count": 50,
   "metadata": {},
   "outputs": [
    {
     "data": {
      "text/plain": [
       "(True, False)"
      ]
     },
     "execution_count": 50,
     "metadata": {},
     "output_type": "execute_result"
    }
   ],
   "source": [
    "from sympy import * \n",
    "from sympy.logic.boolalg import Nand \n",
    "\n",
    "a,b,c=symbols('a b c') \n",
    "\n",
    "a,b,c=(True, False, True) \n",
    "\n",
    "Nand(a,b,c), Nand(a,c)\n"
   ]
  },
  {
   "cell_type": "code",
   "execution_count": 51,
   "metadata": {},
   "outputs": [
    {
     "data": {
      "text/plain": [
       "(False, False)"
      ]
     },
     "execution_count": 51,
     "metadata": {},
     "output_type": "execute_result"
    }
   ],
   "source": [
    "from sympy import * \n",
    "\n",
    "from sympy.logic.boolalg import Nor \n",
    "\n",
    "a,b,c=symbols('a b c') \n",
    "\n",
    "a,b,c=(True, False, True) \n",
    "\n",
    "Nor(a,b,c), Nor(a,c)\n"
   ]
  },
  {
   "cell_type": "code",
   "execution_count": 52,
   "metadata": {},
   "outputs": [
    {
     "data": {
      "text/plain": [
       "(False, True)"
      ]
     },
     "execution_count": 52,
     "metadata": {},
     "output_type": "execute_result"
    }
   ],
   "source": [
    "from sympy import * \n",
    "\n",
    "from sympy.logic.boolalg import Equivalent \n",
    "\n",
    "a,b,c=symbols('a b c') \n",
    "\n",
    "a,b,c=(True, False, True) \n",
    "\n",
    "Equivalent(a,b), Equivalent(a,c)"
   ]
  },
  {
   "cell_type": "code",
   "execution_count": 53,
   "metadata": {},
   "outputs": [
    {
     "data": {
      "text/plain": [
       "(False, True)"
      ]
     },
     "execution_count": 53,
     "metadata": {},
     "output_type": "execute_result"
    }
   ],
   "source": [
    "from sympy import *\n",
    "from sympy.logic.boolalg import ITE\n",
    "\n",
    "a,b,c=symbols('a b c')\n",
    "a,b,c=(True, False, True) \n",
    "\n",
    "ITE(a,b,c), ITE(a,c,b)"
   ]
  },
  {
   "cell_type": "code",
   "execution_count": 54,
   "metadata": {},
   "outputs": [
    {
     "data": {
      "text/plain": [
       "False"
      ]
     },
     "execution_count": 54,
     "metadata": {},
     "output_type": "execute_result"
    }
   ],
   "source": [
    "ask(Q.algebraic(pi))"
   ]
  },
  {
   "cell_type": "code",
   "execution_count": 55,
   "metadata": {},
   "outputs": [
    {
     "data": {
      "text/latex": [
       "$\\displaystyle 1$"
      ],
      "text/plain": [
       "1"
      ]
     },
     "execution_count": 55,
     "metadata": {},
     "output_type": "execute_result"
    }
   ],
   "source": [
    "from sympy import * \n",
    "x=Symbol('x')\n",
    "expr=sin(x)**2 + cos(x)**2 \n",
    "simplify(expr)"
   ]
  },
  {
   "cell_type": "code",
   "execution_count": 56,
   "metadata": {},
   "outputs": [
    {
     "data": {
      "text/latex": [
       "$\\displaystyle a^{2} + 2 a b + b^{2}$"
      ],
      "text/plain": [
       "a**2 + 2*a*b + b**2"
      ]
     },
     "execution_count": 56,
     "metadata": {},
     "output_type": "execute_result"
    }
   ],
   "source": [
    "a,b=symbols('a b') \n",
    "expand((a+b)**2)"
   ]
  },
  {
   "cell_type": "code",
   "execution_count": 57,
   "metadata": {},
   "outputs": [
    {
     "data": {
      "text/latex": [
       "$\\displaystyle z \\left(x + 2 y\\right)^{2}$"
      ],
      "text/plain": [
       "z*(x + 2*y)**2"
      ]
     },
     "execution_count": 57,
     "metadata": {},
     "output_type": "execute_result"
    }
   ],
   "source": [
    "x,y,z=symbols('x y z') \n",
    "expr=(x**2*z + 4*x*y*z + 4*y**2*z) \n",
    "factor(expr)"
   ]
  },
  {
   "cell_type": "code",
   "execution_count": 58,
   "metadata": {},
   "outputs": [
    {
     "data": {
      "text/latex": [
       "$\\displaystyle x^{3} - x^{2} z + 2 x^{2} + x y + x - 3$"
      ],
      "text/plain": [
       "x**3 - x**2*z + 2*x**2 + x*y + x - 3"
      ]
     },
     "execution_count": 58,
     "metadata": {},
     "output_type": "execute_result"
    }
   ],
   "source": [
    "expr=x*y + x - 3 + 2*x**2 - z*x**2 + x**3\n",
    "expr"
   ]
  },
  {
   "cell_type": "code",
   "execution_count": 59,
   "metadata": {},
   "outputs": [
    {
     "data": {
      "text/latex": [
       "$\\displaystyle x^{3} + x^{2} \\cdot \\left(2 - z\\right) + x \\left(y + 1\\right) - 3$"
      ],
      "text/plain": [
       "x**3 + x**2*(2 - z) + x*(y + 1) - 3"
      ]
     },
     "execution_count": 59,
     "metadata": {},
     "output_type": "execute_result"
    }
   ],
   "source": [
    "collect(expr,x)"
   ]
  },
  {
   "cell_type": "code",
   "execution_count": 60,
   "metadata": {},
   "outputs": [
    {
     "data": {
      "text/latex": [
       "$\\displaystyle x + 1$"
      ],
      "text/plain": [
       "x + 1"
      ]
     },
     "execution_count": 60,
     "metadata": {},
     "output_type": "execute_result"
    }
   ],
   "source": [
    "expr1=x**2+2*x+1 \n",
    "\n",
    "expr2=x+1 \n",
    "\n",
    "cancel(expr1/expr2)"
   ]
  },
  {
   "cell_type": "code",
   "execution_count": 61,
   "metadata": {},
   "outputs": [
    {
     "data": {
      "text/latex": [
       "$\\displaystyle 2$"
      ],
      "text/plain": [
       "2"
      ]
     },
     "execution_count": 61,
     "metadata": {},
     "output_type": "execute_result"
    }
   ],
   "source": [
    "from sympy import trigsimp, sin, cos \n",
    "from sympy.abc import x, y\n",
    "\n",
    "expr = 2*sin(x)**2 + 2*cos(x)**2 \n",
    "\n",
    "trigsimp(expr)"
   ]
  },
  {
   "cell_type": "code",
   "execution_count": 62,
   "metadata": {},
   "outputs": [
    {
     "data": {
      "text/latex": [
       "$\\displaystyle x^{y} x^{z} y^{z}$"
      ],
      "text/plain": [
       "x**y*x**z*y**z"
      ]
     },
     "execution_count": 62,
     "metadata": {},
     "output_type": "execute_result"
    }
   ],
   "source": [
    "expr=x**y*x**z*y**z\n",
    "expr"
   ]
  },
  {
   "cell_type": "code",
   "execution_count": 63,
   "metadata": {},
   "outputs": [
    {
     "data": {
      "text/latex": [
       "$\\displaystyle x^{y + z} y^{z}$"
      ],
      "text/plain": [
       "x**(y + z)*y**z"
      ]
     },
     "execution_count": 63,
     "metadata": {},
     "output_type": "execute_result"
    }
   ],
   "source": [
    "powsimp(expr)"
   ]
  },
  {
   "cell_type": "code",
   "execution_count": 64,
   "metadata": {},
   "outputs": [
    {
     "data": {
      "text/latex": [
       "$\\displaystyle \\frac{x!}{\\left(x - 3\\right)!}$"
      ],
      "text/plain": [
       "factorial(x)/factorial(x - 3)"
      ]
     },
     "execution_count": 64,
     "metadata": {},
     "output_type": "execute_result"
    }
   ],
   "source": [
    "expr=factorial(x)/factorial(x - 3)\n",
    "expr"
   ]
  },
  {
   "cell_type": "code",
   "execution_count": 65,
   "metadata": {},
   "outputs": [
    {
     "data": {
      "text/latex": [
       "$\\displaystyle x \\left(x - 2\\right) \\left(x - 1\\right)$"
      ],
      "text/plain": [
       "x*(x - 2)*(x - 1)"
      ]
     },
     "execution_count": 65,
     "metadata": {},
     "output_type": "execute_result"
    }
   ],
   "source": [
    "combsimp(expr)"
   ]
  },
  {
   "cell_type": "code",
   "execution_count": 66,
   "metadata": {},
   "outputs": [
    {
     "data": {
      "text/latex": [
       "$\\displaystyle a \\log{\\left(x \\right)} + \\log{\\left(y \\right)} - \\log{\\left(z \\right)}$"
      ],
      "text/plain": [
       "a*log(x) + log(y) - log(z)"
      ]
     },
     "execution_count": 66,
     "metadata": {},
     "output_type": "execute_result"
    }
   ],
   "source": [
    "logcombine(a*log(x) + log(y) - log(z))"
   ]
  },
  {
   "cell_type": "code",
   "execution_count": 67,
   "metadata": {},
   "outputs": [
    {
     "data": {
      "text/latex": [
       "$\\displaystyle \\log{\\left(\\frac{x^{a} y}{z} \\right)}$"
      ],
      "text/plain": [
       "log(x**a*y/z)"
      ]
     },
     "execution_count": 67,
     "metadata": {},
     "output_type": "execute_result"
    }
   ],
   "source": [
    "logcombine(a*log(x) + log(y) - log(z), force=True)"
   ]
  },
  {
   "cell_type": "code",
   "execution_count": 68,
   "metadata": {},
   "outputs": [
    {
     "data": {
      "text/latex": [
       "$\\displaystyle x \\sin{\\left(x^{2} \\right)} + 1$"
      ],
      "text/plain": [
       "x*sin(x**2) + 1"
      ]
     },
     "execution_count": 68,
     "metadata": {},
     "output_type": "execute_result"
    }
   ],
   "source": [
    "from sympy import diff, sin, exp \n",
    "from sympy.abc import x,y\n",
    "expr=x*sin(x*x)+1\n",
    "expr"
   ]
  },
  {
   "cell_type": "code",
   "execution_count": 69,
   "metadata": {},
   "outputs": [
    {
     "data": {
      "text/latex": [
       "$\\displaystyle 2 x^{2} \\cos{\\left(x^{2} \\right)} + \\sin{\\left(x^{2} \\right)}$"
      ],
      "text/plain": [
       "2*x**2*cos(x**2) + sin(x**2)"
      ]
     },
     "execution_count": 69,
     "metadata": {},
     "output_type": "execute_result"
    }
   ],
   "source": [
    "diff(expr,x)"
   ]
  },
  {
   "cell_type": "code",
   "execution_count": 70,
   "metadata": {},
   "outputs": [
    {
     "data": {
      "text/latex": [
       "$\\displaystyle 24 x$"
      ],
      "text/plain": [
       "24*x"
      ]
     },
     "execution_count": 70,
     "metadata": {},
     "output_type": "execute_result"
    }
   ],
   "source": [
    "diff(x**4,x,3)"
   ]
  },
  {
   "cell_type": "code",
   "execution_count": 71,
   "metadata": {},
   "outputs": [
    {
     "data": {
      "text/latex": [
       "$\\displaystyle \\frac{d}{d x} \\left(x \\sin{\\left(x^{2} \\right)} + 1\\right)$"
      ],
      "text/plain": [
       "Derivative(x*sin(x**2) + 1, x)"
      ]
     },
     "execution_count": 71,
     "metadata": {},
     "output_type": "execute_result"
    }
   ],
   "source": [
    "from sympy import Derivative \n",
    "\n",
    "d=Derivative(expr) \n",
    "d"
   ]
  },
  {
   "cell_type": "code",
   "execution_count": 72,
   "metadata": {},
   "outputs": [
    {
     "data": {
      "text/latex": [
       "$\\displaystyle 2 x^{2} \\cos{\\left(x^{2} \\right)} + \\sin{\\left(x^{2} \\right)}$"
      ],
      "text/plain": [
       "2*x**2*cos(x**2) + sin(x**2)"
      ]
     },
     "execution_count": 72,
     "metadata": {},
     "output_type": "execute_result"
    }
   ],
   "source": [
    "d.doit()"
   ]
  },
  {
   "cell_type": "code",
   "execution_count": 74,
   "metadata": {},
   "outputs": [
    {
     "data": {
      "text/latex": [
       "$\\displaystyle \\frac{x^{3}}{3} + \\frac{x^{2}}{2} + x$"
      ],
      "text/plain": [
       "x**3/3 + x**2/2 + x"
      ]
     },
     "execution_count": 74,
     "metadata": {},
     "output_type": "execute_result"
    }
   ],
   "source": [
    "from sympy import *\n",
    "x,y = symbols('x y') \n",
    "expr=x**2 + x + 1 \n",
    "integrate(expr, x)"
   ]
  },
  {
   "cell_type": "code",
   "execution_count": 75,
   "metadata": {},
   "outputs": [
    {
     "data": {
      "text/latex": [
       "$\\displaystyle \\frac{\\sqrt{\\pi}}{2}$"
      ],
      "text/plain": [
       "sqrt(pi)/2"
      ]
     },
     "execution_count": 75,
     "metadata": {},
     "output_type": "execute_result"
    }
   ],
   "source": [
    "expr=exp(-x**2) \n",
    "integrate(expr,(x,0,oo) )"
   ]
  },
  {
   "cell_type": "code",
   "execution_count": 77,
   "metadata": {},
   "outputs": [
    {
     "data": {
      "text/latex": [
       "$\\displaystyle \\frac{\\pi}{4}$"
      ],
      "text/plain": [
       "pi/4"
      ]
     },
     "execution_count": 77,
     "metadata": {},
     "output_type": "execute_result"
    }
   ],
   "source": [
    "expr=exp(-x**2 - y**2)\n",
    "integrate(expr,(x,0,oo),(y,0,oo))"
   ]
  },
  {
   "cell_type": "code",
   "execution_count": 78,
   "metadata": {},
   "outputs": [
    {
     "data": {
      "text/latex": [
       "$\\displaystyle \\int \\log{\\left(x \\right)}^{2}\\, dx$"
      ],
      "text/plain": [
       "Integral(log(x)**2, x)"
      ]
     },
     "execution_count": 78,
     "metadata": {},
     "output_type": "execute_result"
    }
   ],
   "source": [
    "expr = Integral(log(x)**2, x)\n",
    "expr"
   ]
  },
  {
   "cell_type": "code",
   "execution_count": 79,
   "metadata": {},
   "outputs": [
    {
     "data": {
      "text/latex": [
       "$\\displaystyle x \\log{\\left(x \\right)}^{2} - 2 x \\log{\\left(x \\right)} + 2 x$"
      ],
      "text/plain": [
       "x*log(x)**2 - 2*x*log(x) + 2*x"
      ]
     },
     "execution_count": 79,
     "metadata": {},
     "output_type": "execute_result"
    }
   ],
   "source": [
    "expr.doit()"
   ]
  },
  {
   "cell_type": "code",
   "execution_count": 80,
   "metadata": {},
   "outputs": [
    {
     "data": {
      "text/latex": [
       "$\\displaystyle 5$"
      ],
      "text/plain": [
       "5"
      ]
     },
     "execution_count": 80,
     "metadata": {},
     "output_type": "execute_result"
    }
   ],
   "source": [
    "from sympy import * \n",
    "re(5+3*I)"
   ]
  },
  {
   "cell_type": "code",
   "execution_count": 81,
   "metadata": {},
   "outputs": [
    {
     "data": {
      "text/latex": [
       "$\\displaystyle 3$"
      ],
      "text/plain": [
       "3"
      ]
     },
     "execution_count": 81,
     "metadata": {},
     "output_type": "execute_result"
    }
   ],
   "source": [
    "from sympy import * \n",
    "im(5+3*I)"
   ]
  },
  {
   "cell_type": "code",
   "execution_count": 87,
   "metadata": {},
   "outputs": [
    {
     "data": {
      "text/plain": [
       "(1, -1, 0, -I, sign(-1 - I))"
      ]
     },
     "execution_count": 87,
     "metadata": {},
     "output_type": "execute_result"
    }
   ],
   "source": [
    "sign(1.55), sign(-1), sign(S.Zero), sign(-I),sign(-1-I)"
   ]
  },
  {
   "cell_type": "code",
   "execution_count": 88,
   "metadata": {},
   "outputs": [
    {
     "data": {
      "text/latex": [
       "$\\displaystyle \\sqrt{13}$"
      ],
      "text/plain": [
       "sqrt(13)"
      ]
     },
     "execution_count": 88,
     "metadata": {},
     "output_type": "execute_result"
    }
   ],
   "source": [
    "Abs(2+3*I)"
   ]
  },
  {
   "cell_type": "code",
   "execution_count": 89,
   "metadata": {},
   "outputs": [
    {
     "data": {
      "text/latex": [
       "$\\displaystyle 4 - 7 i$"
      ],
      "text/plain": [
       "4 - 7*I"
      ]
     },
     "execution_count": 89,
     "metadata": {},
     "output_type": "execute_result"
    }
   ],
   "source": [
    "conjugate(4+7*I)"
   ]
  },
  {
   "cell_type": "code",
   "execution_count": 90,
   "metadata": {},
   "outputs": [
    {
     "data": {
      "text/plain": [
       "(4, 7, 3 + 4*I)"
      ]
     },
     "execution_count": 90,
     "metadata": {},
     "output_type": "execute_result"
    }
   ],
   "source": [
    "ceiling(pi), ceiling(Rational(20,3)), ceiling(2.6+3.3*I)"
   ]
  },
  {
   "cell_type": "code",
   "execution_count": 91,
   "metadata": {},
   "outputs": [
    {
     "data": {
      "text/plain": [
       "(3, 16, 6 - 6*I)"
      ]
     },
     "execution_count": 91,
     "metadata": {},
     "output_type": "execute_result"
    }
   ],
   "source": [
    "floor(pi), floor(Rational(100,6)), floor(6.3-5.9*I)"
   ]
  },
  {
   "cell_type": "code",
   "execution_count": 92,
   "metadata": {},
   "outputs": [
    {
     "data": {
      "text/plain": [
       "(0.990000000000000, 1/3, 0)"
      ]
     },
     "execution_count": 92,
     "metadata": {},
     "output_type": "execute_result"
    }
   ],
   "source": [
    "frac(3.99), frac(Rational(10,3)), frac(10)"
   ]
  },
  {
   "cell_type": "code",
   "execution_count": 93,
   "metadata": {},
   "outputs": [
    {
     "data": {
      "text/latex": [
       "$\\displaystyle x!$"
      ],
      "text/plain": [
       "factorial(x)"
      ]
     },
     "execution_count": 93,
     "metadata": {},
     "output_type": "execute_result"
    }
   ],
   "source": [
    "x=Symbol('x') \n",
    "factorial(x)"
   ]
  },
  {
   "cell_type": "code",
   "execution_count": 94,
   "metadata": {},
   "outputs": [
    {
     "data": {
      "text/latex": [
       "$\\displaystyle {\\binom{x}{y}}$"
      ],
      "text/plain": [
       "binomial(x, y)"
      ]
     },
     "execution_count": 94,
     "metadata": {},
     "output_type": "execute_result"
    }
   ],
   "source": [
    "x,y=symbols('x y') \n",
    "binomial(x,y)"
   ]
  },
  {
   "cell_type": "code",
   "execution_count": 95,
   "metadata": {},
   "outputs": [
    {
     "data": {
      "text/latex": [
       "$\\displaystyle x = y$"
      ],
      "text/plain": [
       "Eq(x, y)"
      ]
     },
     "execution_count": 95,
     "metadata": {},
     "output_type": "execute_result"
    }
   ],
   "source": [
    "from sympy import * \n",
    "x,y=symbols('x y') \n",
    "Eq(x, y)"
   ]
  },
  {
   "cell_type": "code",
   "execution_count": 96,
   "metadata": {},
   "outputs": [
    {
     "data": {
      "text/latex": [
       "$\\displaystyle \\emptyset$"
      ],
      "text/plain": [
       "EmptySet"
      ]
     },
     "execution_count": 96,
     "metadata": {},
     "output_type": "execute_result"
    }
   ],
   "source": [
    "solveset(exp(x),x)"
   ]
  },
  {
   "cell_type": "code",
   "execution_count": 97,
   "metadata": {},
   "outputs": [
    {
     "data": {
      "text/latex": [
       "$\\displaystyle \\left\\{\\left( \\frac{5}{2}, \\  - \\frac{3}{2}\\right)\\right\\}$"
      ],
      "text/plain": [
       "{(5/2, -3/2)}"
      ]
     },
     "execution_count": 97,
     "metadata": {},
     "output_type": "execute_result"
    }
   ],
   "source": [
    "from sympy import * \n",
    "x,y=symbols('x y')\n",
    "linsolve([Eq(x-y,4),Eq( x + y ,1) ], (x, y))"
   ]
  },
  {
   "cell_type": "code",
   "execution_count": 98,
   "metadata": {},
   "outputs": [
    {
     "data": {
      "text/latex": [
       "$\\displaystyle \\left\\{\\left( \\frac{5}{2}, \\  - \\frac{3}{2}\\right)\\right\\}$"
      ],
      "text/plain": [
       "{(5/2, -3/2)}"
      ]
     },
     "execution_count": 98,
     "metadata": {},
     "output_type": "execute_result"
    }
   ],
   "source": [
    "a,b=symbols('a b') \n",
    "a=Matrix([[1,-1],[1,1]])\n",
    "b=Matrix([4,1])\n",
    "linsolve([a,b], (x,y))"
   ]
  },
  {
   "cell_type": "code",
   "execution_count": 99,
   "metadata": {},
   "outputs": [
    {
     "data": {
      "text/latex": [
       "$\\displaystyle \\left\\{\\left( -1, \\  -1\\right), \\left( 0, \\  0\\right)\\right\\}$"
      ],
      "text/plain": [
       "{(-1, -1), (0, 0)}"
      ]
     },
     "execution_count": 99,
     "metadata": {},
     "output_type": "execute_result"
    }
   ],
   "source": [
    "a,b=symbols('a b') \n",
    "nonlinsolve([a**2 + a, a - b], [a, b])"
   ]
  },
  {
   "cell_type": "code",
   "execution_count": 100,
   "metadata": {},
   "outputs": [
    {
     "data": {
      "text/latex": [
       "$\\displaystyle f{\\left(x \\right)}$"
      ],
      "text/plain": [
       "f(x)"
      ]
     },
     "execution_count": 100,
     "metadata": {},
     "output_type": "execute_result"
    }
   ],
   "source": [
    "x=Symbol('x') \n",
    "f=symbols('f', cls=Function)\n",
    "f(x)"
   ]
  },
  {
   "cell_type": "code",
   "execution_count": 101,
   "metadata": {},
   "outputs": [
    {
     "data": {
      "text/latex": [
       "$\\displaystyle \\frac{d}{d x} f{\\left(x \\right)}$"
      ],
      "text/plain": [
       "Derivative(f(x), x)"
      ]
     },
     "execution_count": 101,
     "metadata": {},
     "output_type": "execute_result"
    }
   ],
   "source": [
    "f(x).diff(x)"
   ]
  },
  {
   "cell_type": "code",
   "execution_count": 102,
   "metadata": {},
   "outputs": [
    {
     "data": {
      "text/latex": [
       "$\\displaystyle - f{\\left(x \\right)} + \\frac{d}{d x} f{\\left(x \\right)} = \\sin{\\left(x \\right)}$"
      ],
      "text/plain": [
       "Eq(-f(x) + Derivative(f(x), x), sin(x))"
      ]
     },
     "execution_count": 102,
     "metadata": {},
     "output_type": "execute_result"
    }
   ],
   "source": [
    "eqn=Eq(f(x).diff(x)-f(x), sin(x)) \n",
    "eqn"
   ]
  },
  {
   "cell_type": "code",
   "execution_count": 103,
   "metadata": {},
   "outputs": [
    {
     "data": {
      "text/latex": [
       "$\\displaystyle f{\\left(x \\right)} = C_{1} e^{x} - \\frac{\\sin{\\left(x \\right)}}{2} - \\frac{\\cos{\\left(x \\right)}}{2}$"
      ],
      "text/plain": [
       "Eq(f(x), C1*exp(x) - sin(x)/2 - cos(x)/2)"
      ]
     },
     "execution_count": 103,
     "metadata": {},
     "output_type": "execute_result"
    }
   ],
   "source": [
    "dsolve(eqn, f(x))"
   ]
  },
  {
   "cell_type": "code",
   "execution_count": 109,
   "metadata": {},
   "outputs": [
    {
     "ename": "NameError",
     "evalue": "name 'np' is not defined",
     "output_type": "error",
     "traceback": [
      "\u001b[1;31m---------------------------------------------------------------------------\u001b[0m",
      "\u001b[1;31mNameError\u001b[0m                                 Traceback (most recent call last)",
      "Cell \u001b[1;32mIn[109], line 9\u001b[0m\n\u001b[0;32m      6\u001b[0m     omega \u001b[38;5;241m=\u001b[39m symbols(\u001b[38;5;124m'\u001b[39m\u001b[38;5;124momega\u001b[39m\u001b[38;5;124m'\u001b[39m \u001b[38;5;241m+\u001b[39m \u001b[38;5;28mstr\u001b[39m(i))\n\u001b[0;32m      7\u001b[0m     omega_vec\u001b[38;5;241m.\u001b[39mappend(omega)\n\u001b[1;32m----> 9\u001b[0m \u001b[38;5;28mprint\u001b[39m(\u001b[43mnp\u001b[49m\u001b[38;5;241m.\u001b[39marray(omega_vec))\n",
      "\u001b[1;31mNameError\u001b[0m: name 'np' is not defined"
     ]
    }
   ],
   "source": [
    "from sympy import *\n",
    "\n",
    "m = 10\n",
    "omega_vec = []\n",
    "for i in range(m):\n",
    "    omega = symbols('omega' + str(i))\n",
    "    omega_vec.append(omega)\n",
    "    \n",
    "print()"
   ]
  },
  {
   "cell_type": "code",
   "execution_count": 6,
   "metadata": {},
   "outputs": [
    {
     "data": {
      "text/plain": [
       "40.0"
      ]
     },
     "execution_count": 6,
     "metadata": {},
     "output_type": "execute_result"
    }
   ],
   "source": [
    "import numpy as np\n",
    "arr = np.ones(10)*2\n",
    "arr = np.square(arr)\n",
    "sum(arr)"
   ]
  }
 ],
 "metadata": {
  "kernelspec": {
   "display_name": "Python 3",
   "language": "python",
   "name": "python3"
  },
  "language_info": {
   "codemirror_mode": {
    "name": "ipython",
    "version": 3
   },
   "file_extension": ".py",
   "mimetype": "text/x-python",
   "name": "python",
   "nbconvert_exporter": "python",
   "pygments_lexer": "ipython3",
   "version": "3.8.2"
  }
 },
 "nbformat": 4,
 "nbformat_minor": 2
}
